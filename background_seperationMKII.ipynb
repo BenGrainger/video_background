{
 "cells": [
  {
   "cell_type": "code",
   "execution_count": null,
   "id": "3a172d7c-fbf3-44b3-8543-2506bc74ec60",
   "metadata": {},
   "outputs": [],
   "source": [
    "import cv2\n",
    "import numpy as np\n",
    "import matplotlib.pyplot as plt\n",
    "import napari\n",
    "from PIL import Image\n",
    "import av\n",
    "import math"
   ]
  },
  {
   "cell_type": "code",
   "execution_count": null,
   "id": "7d5bdfa9-2d7c-4c77-85e6-f3bf3b832bb5",
   "metadata": {},
   "outputs": [],
   "source": [
    "# methods to shorten videos\n",
    "import subprocess\n",
    "import os\n",
    "import time\n",
    "\n",
    "def cut_video(input_vid_dir, input_vid_name, start_seconds, end_seconds, clip_number, clip_path, last_or_no):\n",
    "    \"\"\"\n",
    "    this method is super fast as it does not rely on encoding and deconding the video into wrappers and uses straight ffmpeg\n",
    "    \"\"\"\n",
    "    \n",
    "    # create name of video to be outputted\n",
    "    output_name = input_vid_name[:-4] + 'short_{}.avi'.format(\"{:02d}\".format(clip_number+1))\n",
    "    output_path = os.path.join(clip_path, output_name)\n",
    "    \n",
    "    # create name of video to be outputted\n",
    "    input_vid_path = os.path.join(input_vid_dir, input_vid_name)\n",
    "    \n",
    "    # format seconds into hh:mm:float(ss)\n",
    "    start_seconds = time.strftime('%H:%M:%S', time.gmtime(start_seconds))\n",
    "    end_seconds = time.strftime('%H:%M:%S', time.gmtime(end_seconds))\n",
    "    \n",
    "    # command format: 'ffmpeg -ss first_clip -i input_video_string -c copy -t second_clip output_video_string'\n",
    "    \n",
    "    if last_or_no == False:\n",
    "        command = 'ffmpeg -ss {} -i {} -c copy -t {} {}'.format(start_seconds, input_vid_path, end_seconds, output_path)\n",
    "        print(command)\n",
    "    else:\n",
    "        command = 'ffmpeg -ss {} -i {} -c copy {}'.format(start_seconds, input_vid_path, output_path)\n",
    "        print(command)\n",
    "    # this copies and clips the video. first number clips the first seconds, then clip everything that is seconds after that\n",
    "    \n",
    "    result = subprocess.run(command)\n"
   ]
  },
  {
   "cell_type": "code",
   "execution_count": null,
   "id": "d524b94d-604f-4f2d-90f3-6ba14d3f09fe",
   "metadata": {},
   "outputs": [],
   "source": [
    "def get_length(filename):\n",
    "    \"\"\"\n",
    "    returns length of the video in seconds as a float\n",
    "    \"\"\"\n",
    "    result = subprocess.run([\"ffprobe\", \"-v\", \"error\", \"-show_entries\",\n",
    "                             \"format=duration\", \"-of\",\n",
    "                             \"default=noprint_wrappers=1:nokey=1\", filename],\n",
    "        stdout=subprocess.PIPE,\n",
    "        stderr=subprocess.STDOUT)\n",
    "    return float(result.stdout)"
   ]
  },
  {
   "cell_type": "code",
   "execution_count": 85,
   "id": "77bbdfe4-d849-49e1-b5aa-aa1cc91d2e35",
   "metadata": {},
   "outputs": [],
   "source": [
    "def create_sliced_video(directory, video_for_slicing, division_number):\n",
    "    \"\"\"\n",
    "    takes in video, spits out a folder containing shorter clips\n",
    "    \"\"\"\n",
    "    video = os.path.join(directory, video_for_slicing)\n",
    "    \n",
    "    # create directoy for short clips\n",
    "    clip_path = os.path.join(directory, video_for_slicing[:-4] + '_clips')\n",
    "    os.mkdir(clip_path)\n",
    "    \n",
    "    # get length of video and length of clips based on the number of clips we want\n",
    "    length = get_length(video)\n",
    "    clip_length = length/division_number\n",
    "    clip_length = math.floor(clip_length)\n",
    "    \n",
    "    # enumerate through clip numbers writing each one to the short clip directory\n",
    "    for clip_number in range(division_number):\n",
    "        \n",
    "        start_seconds = clip_length*division_number\n",
    "        \n",
    "        if clip_number == division_number-1:\n",
    "            cut_video(directory, video_for_slicing, start_seconds, clip_length, clip_number, clip_path, True)\n",
    "            \n",
    "        else:\n",
    "            cut_video(directory, video_for_slicing, start_seconds, clip_length, clip_number, clip_path, False)"
   ]
  },
  {
   "cell_type": "code",
   "execution_count": null,
   "id": "3b0c06b9-f460-4ebe-9b0d-22056d9c15d7",
   "metadata": {},
   "outputs": [
    {
     "name": "stdout",
     "output_type": "stream",
     "text": [
      "ffmpeg -ss 00:00:00 -i C:\\Users\\BMLab21\\Documents\\CrabStreams\\2022-04-06.avi -c copy -t 00:02:09 C:\\Users\\BMLab21\\Documents\\CrabStreams\\2022-04-06_clips\\2022-04-06short_01.avi\n",
      "ffmpeg -ss 00:00:12 -i C:\\Users\\BMLab21\\Documents\\CrabStreams\\2022-04-06.avi -c copy -t 00:02:09 C:\\Users\\BMLab21\\Documents\\CrabStreams\\2022-04-06_clips\\2022-04-06short_02.avi\n",
      "ffmpeg -ss 00:00:24 -i C:\\Users\\BMLab21\\Documents\\CrabStreams\\2022-04-06.avi -c copy -t 00:02:09 C:\\Users\\BMLab21\\Documents\\CrabStreams\\2022-04-06_clips\\2022-04-06short_03.avi\n"
     ]
    }
   ],
   "source": [
    "create_sliced_video(r'C:\\Users\\BMLab21\\Documents\\CrabStreams', '2022-04-06.avi', 12)"
   ]
  },
  {
   "cell_type": "code",
   "execution_count": 23,
   "id": "8ad86681-3b17-4b09-ab78-ed3d6cb5ff9f",
   "metadata": {},
   "outputs": [],
   "source": [
    "# inputs\n",
    "video = r'C:\\Users\\BMLab21\\Documents\\CrabStreams\\2022-04-06.avi'\n",
    "history = 100\n",
    "Learning_rate = 1.0/history\n",
    "cap = cv2.VideoCapture(video)\n",
    "bg_subtractor = cv2.createBackgroundSubtractorMOG2()"
   ]
  },
  {
   "cell_type": "code",
   "execution_count": 26,
   "id": "c26d82e2-a1a0-46f9-8192-1ee1ecfedbc0",
   "metadata": {},
   "outputs": [],
   "source": [
    "output_video_loc = cut_video(video, 30, 10)"
   ]
  },
  {
   "cell_type": "code",
   "execution_count": 6,
   "id": "197647b7-4a09-4ff0-be31-2d2ea5a16783",
   "metadata": {
    "tags": []
   },
   "outputs": [],
   "source": [
    "ret, frame_1 = cap.read()\n",
    "viewer = napari.view_image(frame_1, rgb=True) # 1.labels, 2.paint, 3.fill, 4.export as date e.g. desktop/arena shapes/2022_04_01.tif"
   ]
  },
  {
   "cell_type": "code",
   "execution_count": 5,
   "id": "c27f63d5-3edf-444e-9112-eb82fa4c531e",
   "metadata": {},
   "outputs": [],
   "source": [
    "arena_shape = Image.open(r'C:\\Users\\BMLab21\\Documents\\CrabStreams\\2022-04-04_arenaMask.tif')\n",
    "arena_mask = np.dstack([arena_shape,arena_shape,arena_shape])"
   ]
  },
  {
   "cell_type": "code",
   "execution_count": null,
   "id": "3f4a53d6-89e6-49d6-ab50-cc698904c16f",
   "metadata": {},
   "outputs": [],
   "source": [
    "total_events = []\n",
    "frame_n = 0\n",
    "while(True):\n",
    "    ret, frame = cap.read()\n",
    "    if ret == True:\n",
    "        if frame_n % 5000 == 0:\n",
    "            print(frame_n)\n",
    "        frame_n +=1\n",
    "        img = np.asarray(frame) * arena_mask\n",
    "        mask = bg_subtractor.apply(img, learningRate=Learning_rate) \n",
    "        mask = cv2.cvtColor(mask, cv2.COLOR_GRAY2BGR)\n",
    "        event_frame = int(np.sum(mask))\n",
    "        total_events.append(event_frame)\n",
    "    else:\n",
    "        break\n",
    "\n",
    "cap.release()\n",
    "cv2.destroyAllWindows()\n",
    "total_events = np.array(total_events)\n",
    "print('frames:', frame_n)"
   ]
  },
  {
   "cell_type": "code",
   "execution_count": null,
   "id": "9b0c3680-1e14-4dde-9d79-4b63c9858ba1",
   "metadata": {},
   "outputs": [],
   "source": [
    "a = 0\n",
    "events_p1000 = total_events[a:]\n",
    "plt.plot(events_p1000)\n",
    "#plt.plot(np.where(events_p1000>6000))"
   ]
  },
  {
   "cell_type": "code",
   "execution_count": 48,
   "id": "8691ba3c-bc35-467f-80d6-33c94be92f39",
   "metadata": {},
   "outputs": [],
   "source": [
    "when_events = np.where(events_p1000>5000)\n",
    "indexed_events = np.zeros(len(events_p1000))\n",
    "\n",
    "for events in when_events[0]:\n",
    "    indexed_events[events:events+100] = 1\n",
    "    \n",
    "indexed_events = np.hstack([np.zeros(1000), indexed_events[:len(events_p1000)]])"
   ]
  },
  {
   "cell_type": "code",
   "execution_count": 49,
   "id": "ba04725a-b4ea-45fa-91a4-2c5d55a56156",
   "metadata": {},
   "outputs": [
    {
     "data": {
      "text/plain": [
       "9904"
      ]
     },
     "execution_count": 49,
     "metadata": {},
     "output_type": "execute_result"
    }
   ],
   "source": [
    "len(indexed_events)"
   ]
  },
  {
   "cell_type": "code",
   "execution_count": 56,
   "id": "472ab611-cd93-4c54-89d8-d76fe1502ed6",
   "metadata": {
    "tags": []
   },
   "outputs": [],
   "source": [
    "cap = cv2.VideoCapture(video)\n",
    "\n",
    "frame_width = int(cap.get(3))\n",
    "frame_height = int(cap.get(4))\n",
    "\n",
    "size = (frame_width, frame_height)\n",
    "\n",
    "result = cv2.VideoWriter(r'C:\\Users\\BMLab21\\Desktop\\background_test.avi', \n",
    "                         cv2.VideoWriter_fourcc(*'MJPG'), # fourcc is how openCV finds the codec # MJPG is the codec\n",
    "                         30, size)\n",
    "iteration = 0\n",
    "\n",
    "while(iteration<len(indexed_events)-1):\n",
    "    iteration+=1\n",
    "    event = indexed_events[iteration]\n",
    "    ret, frame = cap.read()\n",
    "    if ret == True:\n",
    "        if event == 1:\n",
    "            result.write(frame)\n",
    "    else:\n",
    "        break\n",
    "\n",
    "cap.release()\n",
    "result.release()\n",
    "cv2.destroyAllWindows()"
   ]
  },
  {
   "cell_type": "code",
   "execution_count": null,
   "id": "78de2d19-03c9-403d-8f75-2ba38ae0c567",
   "metadata": {},
   "outputs": [],
   "source": []
  }
 ],
 "metadata": {
  "kernelspec": {
   "display_name": "Python 3 (ipykernel)",
   "language": "python",
   "name": "python3"
  },
  "language_info": {
   "codemirror_mode": {
    "name": "ipython",
    "version": 3
   },
   "file_extension": ".py",
   "mimetype": "text/x-python",
   "name": "python",
   "nbconvert_exporter": "python",
   "pygments_lexer": "ipython3",
   "version": "3.7.11"
  }
 },
 "nbformat": 4,
 "nbformat_minor": 5
}
