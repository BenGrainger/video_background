{
 "cells": [
  {
   "cell_type": "code",
   "execution_count": 1,
   "id": "3a172d7c-fbf3-44b3-8543-2506bc74ec60",
   "metadata": {},
   "outputs": [],
   "source": [
    "import cv2\n",
    "import numpy as np\n",
    "import matplotlib.pyplot as plt\n",
    "import napari\n",
    "from PIL import Image\n",
    "import av\n",
    "import math"
   ]
  },
  {
   "cell_type": "code",
   "execution_count": 23,
   "id": "8ad86681-3b17-4b09-ab78-ed3d6cb5ff9f",
   "metadata": {},
   "outputs": [],
   "source": [
    "# inputs\n",
    "video = r'C:\\Users\\BMLab21\\Documents\\CrabStreams\\2022-04-06.avi'\n",
    "history = 100\n",
    "Learning_rate = 1.0/history\n",
    "cap = cv2.VideoCapture(video)\n",
    "bg_subtractor = cv2.createBackgroundSubtractorMOG2()"
   ]
  },
  {
   "cell_type": "code",
   "execution_count": 26,
   "id": "c26d82e2-a1a0-46f9-8192-1ee1ecfedbc0",
   "metadata": {},
   "outputs": [],
   "source": [
    "output_video_loc = cut_video(video, 30, 10)"
   ]
  },
  {
   "cell_type": "code",
   "execution_count": 6,
   "id": "197647b7-4a09-4ff0-be31-2d2ea5a16783",
   "metadata": {
    "tags": []
   },
   "outputs": [],
   "source": [
    "ret, frame_1 = cap.read()\n",
    "viewer = napari.view_image(frame_1, rgb=True) # 1.labels, 2.paint, 3.fill, 4.export as date e.g. desktop/arena shapes/2022_04_01.tif"
   ]
  },
  {
   "cell_type": "code",
   "execution_count": 5,
   "id": "c27f63d5-3edf-444e-9112-eb82fa4c531e",
   "metadata": {},
   "outputs": [],
   "source": [
    "arena_shape = Image.open(r'C:\\Users\\BMLab21\\Documents\\CrabStreams\\2022-04-04_arenaMask.tif')\n",
    "arena_mask = np.dstack([arena_shape,arena_shape,arena_shape])"
   ]
  },
  {
   "cell_type": "code",
   "execution_count": null,
   "id": "3f4a53d6-89e6-49d6-ab50-cc698904c16f",
   "metadata": {},
   "outputs": [],
   "source": [
    "total_events = []\n",
    "frame_n = 0\n",
    "while(True):\n",
    "    ret, frame = cap.read()\n",
    "    if ret == True:\n",
    "        if frame_n % 5000 == 0:\n",
    "            print(frame_n)\n",
    "        frame_n +=1\n",
    "        img = np.asarray(frame) * arena_mask\n",
    "        mask = bg_subtractor.apply(img, learningRate=Learning_rate) \n",
    "        mask = cv2.cvtColor(mask, cv2.COLOR_GRAY2BGR)\n",
    "        event_frame = int(np.sum(mask))\n",
    "        total_events.append(event_frame)\n",
    "    else:\n",
    "        break\n",
    "\n",
    "cap.release()\n",
    "cv2.destroyAllWindows()\n",
    "total_events = np.array(total_events)\n",
    "print('frames:', frame_n)"
   ]
  },
  {
   "cell_type": "code",
   "execution_count": null,
   "id": "9b0c3680-1e14-4dde-9d79-4b63c9858ba1",
   "metadata": {},
   "outputs": [],
   "source": [
    "a = 0\n",
    "events_p1000 = total_events[a:]\n",
    "plt.plot(events_p1000)\n",
    "#plt.plot(np.where(events_p1000>6000))"
   ]
  },
  {
   "cell_type": "code",
   "execution_count": 48,
   "id": "8691ba3c-bc35-467f-80d6-33c94be92f39",
   "metadata": {},
   "outputs": [],
   "source": [
    "when_events = np.where(events_p1000>5000)\n",
    "indexed_events = np.zeros(len(events_p1000))\n",
    "\n",
    "for events in when_events[0]:\n",
    "    indexed_events[events:events+100] = 1\n",
    "    \n",
    "indexed_events = np.hstack([np.zeros(1000), indexed_events[:len(events_p1000)]])"
   ]
  },
  {
   "cell_type": "code",
   "execution_count": 49,
   "id": "ba04725a-b4ea-45fa-91a4-2c5d55a56156",
   "metadata": {},
   "outputs": [
    {
     "data": {
      "text/plain": [
       "9904"
      ]
     },
     "execution_count": 49,
     "metadata": {},
     "output_type": "execute_result"
    }
   ],
   "source": [
    "len(indexed_events)"
   ]
  },
  {
   "cell_type": "code",
   "execution_count": 56,
   "id": "472ab611-cd93-4c54-89d8-d76fe1502ed6",
   "metadata": {
    "tags": []
   },
   "outputs": [],
   "source": [
    "cap = cv2.VideoCapture(video)\n",
    "\n",
    "frame_width = int(cap.get(3))\n",
    "frame_height = int(cap.get(4))\n",
    "\n",
    "size = (frame_width, frame_height)\n",
    "\n",
    "result = cv2.VideoWriter(r'C:\\Users\\BMLab21\\Desktop\\background_test.avi', \n",
    "                         cv2.VideoWriter_fourcc(*'MJPG'), # fourcc is how openCV finds the codec # MJPG is the codec\n",
    "                         30, size)\n",
    "iteration = 0\n",
    "\n",
    "while(iteration<len(indexed_events)-1):\n",
    "    iteration+=1\n",
    "    event = indexed_events[iteration]\n",
    "    ret, frame = cap.read()\n",
    "    if ret == True:\n",
    "        if event == 1:\n",
    "            result.write(frame)\n",
    "    else:\n",
    "        break\n",
    "\n",
    "cap.release()\n",
    "result.release()\n",
    "cv2.destroyAllWindows()"
   ]
  },
  {
   "cell_type": "code",
   "execution_count": null,
   "id": "78de2d19-03c9-403d-8f75-2ba38ae0c567",
   "metadata": {},
   "outputs": [],
   "source": []
  }
 ],
 "metadata": {
  "kernelspec": {
   "display_name": "Python 3 (ipykernel)",
   "language": "python",
   "name": "python3"
  },
  "language_info": {
   "codemirror_mode": {
    "name": "ipython",
    "version": 3
   },
   "file_extension": ".py",
   "mimetype": "text/x-python",
   "name": "python",
   "nbconvert_exporter": "python",
   "pygments_lexer": "ipython3",
   "version": "3.7.11"
  }
 },
 "nbformat": 4,
 "nbformat_minor": 5
}
