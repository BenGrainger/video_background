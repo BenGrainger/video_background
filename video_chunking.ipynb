{
 "cells": [
  {
   "cell_type": "code",
   "execution_count": 24,
   "id": "3a172d7c-fbf3-44b3-8543-2506bc74ec60",
   "metadata": {},
   "outputs": [],
   "source": [
    "import pims\n",
    "import numpy as np\n",
    "import subprocess\n",
    "import os\n",
    "import time\n",
    "import math\n",
    "import matplotlib.pyplot as plt\n",
    "import cv2"
   ]
  },
  {
   "cell_type": "code",
   "execution_count": 2,
   "id": "7d5bdfa9-2d7c-4c77-85e6-f3bf3b832bb5",
   "metadata": {},
   "outputs": [],
   "source": [
    "# methods to shorten videos\n",
    "\n",
    "def cut_video(input_vid_dir, input_vid_name, start_seconds, end_seconds, clip_number, clip_path, last_or_no):\n",
    "    \"\"\"\n",
    "    this method is super fast as it does not rely on encoding and deconding the video into wrappers and uses straight ffmpeg\n",
    "    \"\"\"\n",
    "    \n",
    "    # create name of video to be outputted\n",
    "    output_name = input_vid_name[:-4] + 'short_{}.avi'.format(\"{:02d}\".format(clip_number+1))\n",
    "    output_path = os.path.join(clip_path, output_name)\n",
    "    \n",
    "    # create name of video to be outputted\n",
    "    input_vid_path = os.path.join(input_vid_dir, input_vid_name)\n",
    "    \n",
    "    # format seconds into hh:mm:float(ss)\n",
    "    start_seconds = time.strftime('%H:%M:%S', time.gmtime(start_seconds))\n",
    "    end_seconds = time.strftime('%H:%M:%S', time.gmtime(end_seconds))\n",
    "    \n",
    "    # command format: 'ffmpeg -ss first_clip -i input_video_string -c copy -t second_clip output_video_string'\n",
    "    \n",
    "    if last_or_no == False:\n",
    "        command = 'ffmpeg -ss {} -i {} -c copy -t {} {}'.format(start_seconds, input_vid_path, end_seconds, output_path)\n",
    "        print(command)\n",
    "    else:\n",
    "        command = 'ffmpeg -ss {} -i {} -c copy {}'.format(start_seconds, input_vid_path, output_path)\n",
    "        print(command)\n",
    "    # this copies and clips the video. first number clips the first seconds, then clip everything that is seconds after that\n",
    "    \n",
    "    result = subprocess.run(command)\n"
   ]
  },
  {
   "cell_type": "code",
   "execution_count": 3,
   "id": "d524b94d-604f-4f2d-90f3-6ba14d3f09fe",
   "metadata": {},
   "outputs": [],
   "source": [
    "def get_length(filename):\n",
    "    \"\"\"\n",
    "    returns length of the video in seconds as a float\n",
    "    \"\"\"\n",
    "    result = subprocess.run([\"ffprobe\", \"-v\", \"error\", \"-show_entries\",\n",
    "                             \"format=duration\", \"-of\",\n",
    "                             \"default=noprint_wrappers=1:nokey=1\", filename],\n",
    "        stdout=subprocess.PIPE,\n",
    "        stderr=subprocess.STDOUT)\n",
    "    return float(result.stdout)"
   ]
  },
  {
   "cell_type": "code",
   "execution_count": 4,
   "id": "77bbdfe4-d849-49e1-b5aa-aa1cc91d2e35",
   "metadata": {},
   "outputs": [],
   "source": [
    "def create_sliced_video(directory, video_for_slicing, division_number):\n",
    "    \"\"\"\n",
    "    takes in video, spits out a folder containing shorter clips\n",
    "    \"\"\"\n",
    "    video = os.path.join(directory, video_for_slicing)\n",
    "    \n",
    "    # create directoy for short clips\n",
    "    clip_path = os.path.join(directory, video_for_slicing[:-4] + '_clips')\n",
    "    os.mkdir(clip_path)\n",
    "    \n",
    "    # get length of video and length of clips based on the number of clips we want\n",
    "    length = get_length(video)\n",
    "    clip_length = length/division_number\n",
    "    clip_length = math.floor(clip_length)\n",
    "    \n",
    "    # enumerate through clip numbers writing each one to the short clip directory\n",
    "    for clip_number in range(division_number):\n",
    "        \n",
    "        start_seconds = clip_length*clip_number\n",
    "        \n",
    "        if clip_number == division_number-1:\n",
    "            cut_video(directory, video_for_slicing, start_seconds, clip_length, clip_number, clip_path, True)\n",
    "            \n",
    "        else:\n",
    "            cut_video(directory, video_for_slicing, start_seconds, clip_length, clip_number, clip_path, False)"
   ]
  },
  {
   "cell_type": "code",
   "execution_count": 5,
   "id": "3b0c06b9-f460-4ebe-9b0d-22056d9c15d7",
   "metadata": {},
   "outputs": [
    {
     "name": "stdout",
     "output_type": "stream",
     "text": [
      "ffmpeg -ss 00:00:00 -i C:\\Users\\BMLab21\\Documents\\CrabStreams\\2022-04-06_264.avi -c copy -t 00:00:21 C:\\Users\\BMLab21\\Documents\\CrabStreams\\2022-04-06_264_clips\\2022-04-06_264short_01.avi\n",
      "ffmpeg -ss 00:00:21 -i C:\\Users\\BMLab21\\Documents\\CrabStreams\\2022-04-06_264.avi -c copy -t 00:00:21 C:\\Users\\BMLab21\\Documents\\CrabStreams\\2022-04-06_264_clips\\2022-04-06_264short_02.avi\n",
      "ffmpeg -ss 00:00:42 -i C:\\Users\\BMLab21\\Documents\\CrabStreams\\2022-04-06_264.avi -c copy -t 00:00:21 C:\\Users\\BMLab21\\Documents\\CrabStreams\\2022-04-06_264_clips\\2022-04-06_264short_03.avi\n",
      "ffmpeg -ss 00:01:03 -i C:\\Users\\BMLab21\\Documents\\CrabStreams\\2022-04-06_264.avi -c copy -t 00:00:21 C:\\Users\\BMLab21\\Documents\\CrabStreams\\2022-04-06_264_clips\\2022-04-06_264short_04.avi\n",
      "ffmpeg -ss 00:01:24 -i C:\\Users\\BMLab21\\Documents\\CrabStreams\\2022-04-06_264.avi -c copy -t 00:00:21 C:\\Users\\BMLab21\\Documents\\CrabStreams\\2022-04-06_264_clips\\2022-04-06_264short_05.avi\n",
      "ffmpeg -ss 00:01:45 -i C:\\Users\\BMLab21\\Documents\\CrabStreams\\2022-04-06_264.avi -c copy -t 00:00:21 C:\\Users\\BMLab21\\Documents\\CrabStreams\\2022-04-06_264_clips\\2022-04-06_264short_06.avi\n",
      "ffmpeg -ss 00:02:06 -i C:\\Users\\BMLab21\\Documents\\CrabStreams\\2022-04-06_264.avi -c copy -t 00:00:21 C:\\Users\\BMLab21\\Documents\\CrabStreams\\2022-04-06_264_clips\\2022-04-06_264short_07.avi\n",
      "ffmpeg -ss 00:02:27 -i C:\\Users\\BMLab21\\Documents\\CrabStreams\\2022-04-06_264.avi -c copy -t 00:00:21 C:\\Users\\BMLab21\\Documents\\CrabStreams\\2022-04-06_264_clips\\2022-04-06_264short_08.avi\n",
      "ffmpeg -ss 00:02:48 -i C:\\Users\\BMLab21\\Documents\\CrabStreams\\2022-04-06_264.avi -c copy -t 00:00:21 C:\\Users\\BMLab21\\Documents\\CrabStreams\\2022-04-06_264_clips\\2022-04-06_264short_09.avi\n",
      "ffmpeg -ss 00:03:09 -i C:\\Users\\BMLab21\\Documents\\CrabStreams\\2022-04-06_264.avi -c copy -t 00:00:21 C:\\Users\\BMLab21\\Documents\\CrabStreams\\2022-04-06_264_clips\\2022-04-06_264short_10.avi\n",
      "ffmpeg -ss 00:03:30 -i C:\\Users\\BMLab21\\Documents\\CrabStreams\\2022-04-06_264.avi -c copy -t 00:00:21 C:\\Users\\BMLab21\\Documents\\CrabStreams\\2022-04-06_264_clips\\2022-04-06_264short_11.avi\n",
      "ffmpeg -ss 00:03:51 -i C:\\Users\\BMLab21\\Documents\\CrabStreams\\2022-04-06_264.avi -c copy C:\\Users\\BMLab21\\Documents\\CrabStreams\\2022-04-06_264_clips\\2022-04-06_264short_12.avi\n"
     ]
    }
   ],
   "source": [
    "create_sliced_video(r'C:\\Users\\BMLab21\\Documents\\CrabStreams', '2022-04-06_264.avi', 12)"
   ]
  },
  {
   "cell_type": "code",
   "execution_count": 13,
   "id": "78de2d19-03c9-403d-8f75-2ba38ae0c567",
   "metadata": {},
   "outputs": [
    {
     "data": {
      "text/plain": [
       "<Frames>\n",
       "Source: C:\\Users\\BMLab21\\Documents\\CrabStreams\\2022-04-06_264_clips\\2022-04-06_264short_01.avi\n",
       "Length: 170 frames\n",
       "Frame Shape: (1080, 1920, 3)"
      ]
     },
     "execution_count": 13,
     "metadata": {},
     "output_type": "execute_result"
    }
   ],
   "source": [
    "directory = r'C:\\Users\\BMLab21\\Documents\\CrabStreams\\2022-04-06_264_clips'\n",
    "video_name = '2022-04-06_264short_01.avi'\n",
    "path = os.path.join(directory, video_name)\n",
    "vid = pims.PyAVReaderIndexed(path)\n",
    "vid"
   ]
  },
  {
   "cell_type": "code",
   "execution_count": 33,
   "id": "989de01b-f9b2-4a78-8b20-2a5e69158d3f",
   "metadata": {
    "tags": []
   },
   "outputs": [
    {
     "name": "stdout",
     "output_type": "stream",
     "text": [
      "9.992537021636963\n"
     ]
    }
   ],
   "source": [
    "time1 = time.time()\n",
    "v_array = np.array(vid)\n",
    "mean = np.mean(v_array, axis=3)\n",
    "time2 = time.time()\n",
    "print(time2-time1)"
   ]
  },
  {
   "cell_type": "code",
   "execution_count": 34,
   "id": "6477baf6-cc54-41d5-80e3-76ce74f9cbda",
   "metadata": {},
   "outputs": [
    {
     "data": {
      "text/plain": [
       "(170, 1080, 1920)"
      ]
     },
     "execution_count": 34,
     "metadata": {},
     "output_type": "execute_result"
    }
   ],
   "source": [
    "mean.shape"
   ]
  },
  {
   "cell_type": "code",
   "execution_count": 35,
   "id": "66bfb8a6-e519-4de1-8f93-f313790ab84f",
   "metadata": {},
   "outputs": [
    {
     "name": "stdout",
     "output_type": "stream",
     "text": [
      "9.838150024414062\n"
     ]
    }
   ],
   "source": [
    "time1 = time.time()\n",
    "cap = cv2.VideoCapture(path)\n",
    "mean = []\n",
    "while(True):\n",
    "    ret, frame = cap.read()\n",
    "    if ret == True:\n",
    "        img = np.asarray(frame)\n",
    "        mean.append(np.mean(img, axis=2))\n",
    "    else:\n",
    "        break\n",
    "\n",
    "cap.release()\n",
    "cv2.destroyAllWindows()\n",
    "mean = np.array(mean)\n",
    "time2 = time.time()\n",
    "print(time2-time1)"
   ]
  },
  {
   "cell_type": "code",
   "execution_count": 36,
   "id": "0d9f77d9-4bb0-4cbe-964b-6b95c364c26c",
   "metadata": {},
   "outputs": [
    {
     "data": {
      "text/plain": [
       "(170, 1080, 1920)"
      ]
     },
     "execution_count": 36,
     "metadata": {},
     "output_type": "execute_result"
    }
   ],
   "source": [
    "mean.shape"
   ]
  },
  {
   "cell_type": "code",
   "execution_count": null,
   "id": "50d0d37c-b5d6-4c7d-bbbb-a3b1fec46dda",
   "metadata": {},
   "outputs": [],
   "source": []
  }
 ],
 "metadata": {
  "kernelspec": {
   "display_name": "Python 3 (ipykernel)",
   "language": "python",
   "name": "python3"
  },
  "language_info": {
   "codemirror_mode": {
    "name": "ipython",
    "version": 3
   },
   "file_extension": ".py",
   "mimetype": "text/x-python",
   "name": "python",
   "nbconvert_exporter": "python",
   "pygments_lexer": "ipython3",
   "version": "3.7.11"
  }
 },
 "nbformat": 4,
 "nbformat_minor": 5
}
